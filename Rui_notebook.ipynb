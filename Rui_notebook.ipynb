{
 "cells": [
  {
   "cell_type": "code",
   "execution_count": 218,
   "metadata": {},
   "outputs": [
    {
     "name": "stdout",
     "output_type": "stream",
     "text": [
      "The autoreload extension is already loaded. To reload it, use:\n",
      "  %reload_ext autoreload\n"
     ]
    }
   ],
   "source": [
    "import pandas as pd\n",
    "import numpy as np\n",
    "idx = pd.IndexSlice\n",
    "% matplotlib inline \n",
    "from util import error_function, get_simple_pred, get_quantil_pred\n",
    "%load_ext autoreload\n",
    "%autoreload 2"
   ]
  },
  {
   "cell_type": "code",
   "execution_count": 500,
   "metadata": {},
   "outputs": [],
   "source": [
    "train = pd.read_csv('data/train.csv',parse_dates=['Date'])\n",
    "test = pd.read_csv('data/test.csv',parse_dates=['Date'])\n",
    "\n",
    "train = train[train.Date.dt.month==5]\n",
    "train = train.set_index(['Date','City'])\n",
    "train = train.sort_index()\n",
    "\n",
    "train['day_of_week'] = train.index.get_level_values('Date').weekday_name\n",
    "\n",
    "last_day_in_index = train.index.get_level_values('Date').max()\n",
    "new_last_day_train = last_day_in_index - pd.DateOffset(days=7)\n",
    "new_first_day_test = last_day_in_index - pd.DateOffset(days=6)\n",
    "new_last_day_test = last_day_in_index - pd.DateOffset(days=3)\n",
    "new_train = train.loc[idx[:new_last_day_train, :], :]\n",
    "new_test = train.loc[idx[new_first_day_test:new_last_day_test, :], :]\n",
    "new_test = new_test.reset_index()"
   ]
  },
  {
   "cell_type": "code",
   "execution_count": 501,
   "metadata": {},
   "outputs": [],
   "source": [
    "new_train = new_train[new_train['Hospital active']==1]"
   ]
  },
  {
   "cell_type": "code",
   "execution_count": 502,
   "metadata": {},
   "outputs": [],
   "source": [
    "df_quantil_Sun = new_train.groupby(['City','day_of_week'])['Nr_patients'].quantile(q=0.94)"
   ]
  },
  {
   "cell_type": "code",
   "execution_count": 503,
   "metadata": {},
   "outputs": [],
   "source": [
    "df_quantil_Mon = new_train.groupby(['City','day_of_week'])['Nr_patients'].quantile(q=0.67)"
   ]
  },
  {
   "cell_type": "code",
   "execution_count": 522,
   "metadata": {},
   "outputs": [],
   "source": [
    "df_quantil_Tue = new_train.groupby(['City','day_of_week'])['Nr_patients'].quantile(q=0.94)"
   ]
  },
  {
   "cell_type": "code",
   "execution_count": 523,
   "metadata": {},
   "outputs": [],
   "source": [
    "df_quantil_Wen = new_train.groupby(['City','day_of_week'])['Nr_patients'].quantile(q=0.94)"
   ]
  },
  {
   "cell_type": "code",
   "execution_count": 524,
   "metadata": {},
   "outputs": [],
   "source": [
    "df_mean = new_train.groupby('City')['Nr_patients'].max()\n",
    "df_mean = pd.DataFrame(df_mean)"
   ]
  },
  {
   "cell_type": "code",
   "execution_count": 525,
   "metadata": {},
   "outputs": [],
   "source": [
    "new_test['nr_doctors'] = new_test.apply(get_quantil_pred, axis=1,args=(df_quantil_Sun,df_quantil_Mon,df_quantil_Tue,df_quantil_Wen))"
   ]
  },
  {
   "cell_type": "code",
   "execution_count": 526,
   "metadata": {},
   "outputs": [
    {
     "name": "stdout",
     "output_type": "stream",
     "text": [
      "1515.0\n"
     ]
    }
   ],
   "source": [
    "print(error_function(new_test['Nr_patients'],new_test['nr_doctors']))"
   ]
  },
  {
   "cell_type": "code",
   "execution_count": 527,
   "metadata": {},
   "outputs": [
    {
     "data": {
      "text/html": [
       "<div>\n",
       "<style scoped>\n",
       "    .dataframe tbody tr th:only-of-type {\n",
       "        vertical-align: middle;\n",
       "    }\n",
       "\n",
       "    .dataframe tbody tr th {\n",
       "        vertical-align: top;\n",
       "    }\n",
       "\n",
       "    .dataframe thead th {\n",
       "        text-align: right;\n",
       "    }\n",
       "</style>\n",
       "<table border=\"1\" class=\"dataframe\">\n",
       "  <thead>\n",
       "    <tr style=\"text-align: right;\">\n",
       "      <th></th>\n",
       "      <th>Doctors allocated</th>\n",
       "      <th>Nr_patients</th>\n",
       "      <th>Deaths from lack of doctors</th>\n",
       "      <th>National Holiday</th>\n",
       "      <th>News on local media about deseases</th>\n",
       "      <th>Students on Holiday</th>\n",
       "      <th>Hospital active</th>\n",
       "      <th>nr_doctors</th>\n",
       "    </tr>\n",
       "    <tr>\n",
       "      <th>Date</th>\n",
       "      <th></th>\n",
       "      <th></th>\n",
       "      <th></th>\n",
       "      <th></th>\n",
       "      <th></th>\n",
       "      <th></th>\n",
       "      <th></th>\n",
       "      <th></th>\n",
       "    </tr>\n",
       "  </thead>\n",
       "  <tbody>\n",
       "    <tr>\n",
       "      <th>2018-05-13</th>\n",
       "      <td>1749</td>\n",
       "      <td>9549</td>\n",
       "      <td>0.0</td>\n",
       "      <td>0</td>\n",
       "      <td>0</td>\n",
       "      <td>0</td>\n",
       "      <td>12</td>\n",
       "      <td>750</td>\n",
       "    </tr>\n",
       "    <tr>\n",
       "      <th>2018-05-14</th>\n",
       "      <td>39665</td>\n",
       "      <td>230834</td>\n",
       "      <td>0.0</td>\n",
       "      <td>0</td>\n",
       "      <td>0</td>\n",
       "      <td>9</td>\n",
       "      <td>307</td>\n",
       "      <td>19915</td>\n",
       "    </tr>\n",
       "    <tr>\n",
       "      <th>2018-05-15</th>\n",
       "      <td>39665</td>\n",
       "      <td>225278</td>\n",
       "      <td>0.0</td>\n",
       "      <td>0</td>\n",
       "      <td>0</td>\n",
       "      <td>9</td>\n",
       "      <td>307</td>\n",
       "      <td>19928</td>\n",
       "    </tr>\n",
       "    <tr>\n",
       "      <th>2018-05-16</th>\n",
       "      <td>39665</td>\n",
       "      <td>265665</td>\n",
       "      <td>0.0</td>\n",
       "      <td>0</td>\n",
       "      <td>0</td>\n",
       "      <td>9</td>\n",
       "      <td>307</td>\n",
       "      <td>20073</td>\n",
       "    </tr>\n",
       "  </tbody>\n",
       "</table>\n",
       "</div>"
      ],
      "text/plain": [
       "            Doctors allocated  Nr_patients  Deaths from lack of doctors  \\\n",
       "Date                                                                      \n",
       "2018-05-13               1749         9549                          0.0   \n",
       "2018-05-14              39665       230834                          0.0   \n",
       "2018-05-15              39665       225278                          0.0   \n",
       "2018-05-16              39665       265665                          0.0   \n",
       "\n",
       "            National Holiday  News on local media about deseases  \\\n",
       "Date                                                               \n",
       "2018-05-13                 0                                   0   \n",
       "2018-05-14                 0                                   0   \n",
       "2018-05-15                 0                                   0   \n",
       "2018-05-16                 0                                   0   \n",
       "\n",
       "            Students on Holiday  Hospital active  nr_doctors  \n",
       "Date                                                          \n",
       "2018-05-13                    0               12         750  \n",
       "2018-05-14                    9              307       19915  \n",
       "2018-05-15                    9              307       19928  \n",
       "2018-05-16                    9              307       20073  "
      ]
     },
     "execution_count": 527,
     "metadata": {},
     "output_type": "execute_result"
    }
   ],
   "source": [
    "new_test.groupby('Date').sum()"
   ]
  },
  {
   "cell_type": "code",
   "execution_count": 496,
   "metadata": {},
   "outputs": [],
   "source": [
    "test['nr_doctors'] = test.apply(get_quantil_pred, axis=1,args=(df_quantil_Sun,df_quantil_Mon,df_quantil_Tue,df_quantil_Wen))"
   ]
  },
  {
   "cell_type": "code",
   "execution_count": 497,
   "metadata": {},
   "outputs": [
    {
     "data": {
      "text/html": [
       "<div>\n",
       "<style scoped>\n",
       "    .dataframe tbody tr th:only-of-type {\n",
       "        vertical-align: middle;\n",
       "    }\n",
       "\n",
       "    .dataframe tbody tr th {\n",
       "        vertical-align: top;\n",
       "    }\n",
       "\n",
       "    .dataframe thead th {\n",
       "        text-align: right;\n",
       "    }\n",
       "</style>\n",
       "<table border=\"1\" class=\"dataframe\">\n",
       "  <thead>\n",
       "    <tr style=\"text-align: right;\">\n",
       "      <th></th>\n",
       "      <th>Hospital active</th>\n",
       "      <th>nr_doctors</th>\n",
       "    </tr>\n",
       "    <tr>\n",
       "      <th>Date</th>\n",
       "      <th></th>\n",
       "      <th></th>\n",
       "    </tr>\n",
       "  </thead>\n",
       "  <tbody>\n",
       "    <tr>\n",
       "      <th>2018-05-20</th>\n",
       "      <td>12</td>\n",
       "      <td>945</td>\n",
       "    </tr>\n",
       "    <tr>\n",
       "      <th>2018-05-21</th>\n",
       "      <td>308</td>\n",
       "      <td>19989</td>\n",
       "    </tr>\n",
       "    <tr>\n",
       "      <th>2018-05-22</th>\n",
       "      <td>308</td>\n",
       "      <td>19875</td>\n",
       "    </tr>\n",
       "    <tr>\n",
       "      <th>2018-05-23</th>\n",
       "      <td>308</td>\n",
       "      <td>19899</td>\n",
       "    </tr>\n",
       "  </tbody>\n",
       "</table>\n",
       "</div>"
      ],
      "text/plain": [
       "            Hospital active  nr_doctors\n",
       "Date                                   \n",
       "2018-05-20               12         945\n",
       "2018-05-21              308       19989\n",
       "2018-05-22              308       19875\n",
       "2018-05-23              308       19899"
      ]
     },
     "execution_count": 497,
     "metadata": {},
     "output_type": "execute_result"
    }
   ],
   "source": [
    "test.groupby('Date').sum()"
   ]
  },
  {
   "cell_type": "code",
   "execution_count": null,
   "metadata": {},
   "outputs": [],
   "source": []
  },
  {
   "cell_type": "code",
   "execution_count": 498,
   "metadata": {},
   "outputs": [],
   "source": [
    "test.drop(columns=['Hospital active']).to_csv('submission2.csv',index=False)"
   ]
  },
  {
   "cell_type": "code",
   "execution_count": 351,
   "metadata": {},
   "outputs": [],
   "source": [
    "df = pd.read_csv('submission1.csv')"
   ]
  },
  {
   "cell_type": "code",
   "execution_count": null,
   "metadata": {},
   "outputs": [],
   "source": []
  }
 ],
 "metadata": {
  "kernelspec": {
   "display_name": "Python 3",
   "language": "python",
   "name": "python3"
  },
  "language_info": {
   "codemirror_mode": {
    "name": "ipython",
    "version": 3
   },
   "file_extension": ".py",
   "mimetype": "text/x-python",
   "name": "python",
   "nbconvert_exporter": "python",
   "pygments_lexer": "ipython3",
   "version": "3.6.4"
  }
 },
 "nbformat": 4,
 "nbformat_minor": 2
}
